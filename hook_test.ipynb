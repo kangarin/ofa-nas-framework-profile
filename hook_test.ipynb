{
 "cells": [
  {
   "cell_type": "code",
   "execution_count": 1,
   "metadata": {},
   "outputs": [
    {
     "name": "stderr",
     "output_type": "stream",
     "text": [
      "Using cache found in C:\\Users\\wydai/.cache\\torch\\hub\\mit-han-lab_once-for-all_master\n"
     ]
    },
    {
     "name": "stdout",
     "output_type": "stream",
     "text": [
      "2024-12-10 19:38:07,094 - model - INFO - backbone.fpn.inner_blocks.0.0.weight\n",
      "2024-12-10 19:38:07,096 - model - INFO - backbone.fpn.inner_blocks.0.0.bias\n",
      "2024-12-10 19:38:07,098 - model - INFO - backbone.fpn.inner_blocks.1.0.weight\n",
      "2024-12-10 19:38:07,100 - model - INFO - backbone.fpn.inner_blocks.1.0.bias\n",
      "2024-12-10 19:38:07,101 - model - INFO - backbone.fpn.inner_blocks.2.0.weight\n",
      "2024-12-10 19:38:07,102 - model - INFO - backbone.fpn.inner_blocks.2.0.bias\n",
      "2024-12-10 19:38:07,103 - model - INFO - backbone.fpn.inner_blocks.3.0.weight\n",
      "2024-12-10 19:38:07,105 - model - INFO - backbone.fpn.inner_blocks.3.0.bias\n",
      "2024-12-10 19:38:07,106 - model - INFO - backbone.fpn.layer_blocks.0.0.weight\n",
      "2024-12-10 19:38:07,107 - model - INFO - backbone.fpn.layer_blocks.0.0.bias\n",
      "2024-12-10 19:38:07,108 - model - INFO - backbone.fpn.layer_blocks.1.0.weight\n",
      "2024-12-10 19:38:07,109 - model - INFO - backbone.fpn.layer_blocks.1.0.bias\n",
      "2024-12-10 19:38:07,111 - model - INFO - backbone.fpn.layer_blocks.2.0.weight\n",
      "2024-12-10 19:38:07,112 - model - INFO - backbone.fpn.layer_blocks.2.0.bias\n",
      "2024-12-10 19:38:07,113 - model - INFO - backbone.fpn.layer_blocks.3.0.weight\n",
      "2024-12-10 19:38:07,114 - model - INFO - backbone.fpn.layer_blocks.3.0.bias\n",
      "2024-12-10 19:38:07,115 - model - INFO - backbone.dynamic_convs.0.conv.weight\n",
      "2024-12-10 19:38:07,118 - model - INFO - backbone.dynamic_convs.1.conv.weight\n",
      "2024-12-10 19:38:07,119 - model - INFO - backbone.dynamic_convs.2.conv.weight\n",
      "2024-12-10 19:38:07,120 - model - INFO - backbone.dynamic_convs.3.conv.weight\n",
      "2024-12-10 19:38:07,121 - model - INFO - roi_heads.box_head.fc6.weight\n",
      "2024-12-10 19:38:07,123 - model - INFO - roi_heads.box_head.fc6.bias\n",
      "2024-12-10 19:38:07,124 - model - INFO - roi_heads.box_head.fc7.weight\n",
      "2024-12-10 19:38:07,126 - model - INFO - roi_heads.box_head.fc7.bias\n",
      "2024-12-10 19:38:07,127 - model - INFO - roi_heads.box_predictor.cls_score.weight\n",
      "2024-12-10 19:38:07,128 - model - INFO - roi_heads.box_predictor.cls_score.bias\n",
      "2024-12-10 19:38:07,129 - model - INFO - roi_heads.box_predictor.bbox_pred.weight\n",
      "2024-12-10 19:38:07,130 - model - INFO - roi_heads.box_predictor.bbox_pred.bias\n"
     ]
    }
   ],
   "source": [
    "import torch\n",
    "from train.train_detection_networks import train\n",
    "# from models.detection.ofa_mbv3_w12_fcos import get_ofa_mbv3_w12_fcos_model, load_pretrained_fcos, set_training_params\n",
    "from models.detection.ofa_mbv3_w12_fasterrcnn import get_ofa_mbv3_w12_fasterrcnn_model, load_pretrained_fasterrcnn, set_training_params\n",
    "# model = get_ofa_mbv3_w12_fcos_model()\n",
    "model = get_ofa_mbv3_w12_fasterrcnn_model()\n",
    "set_training_params(model, is_backbone_body_need_training=False)\n",
    "\n"
   ]
  },
  {
   "cell_type": "code",
   "execution_count": 2,
   "metadata": {},
   "outputs": [],
   "source": [
    "def hook_fn_fasterrcnn(module, input, output):\n",
    "    # 打印output字典中的key\n",
    "    print(output.keys())\n",
    "    for key in output.keys():\n",
    "        print(key)\n",
    "        print(output[key].shape)\n",
    "    return output"
   ]
  },
  {
   "cell_type": "code",
   "execution_count": 3,
   "metadata": {},
   "outputs": [
    {
     "name": "stdout",
     "output_type": "stream",
     "text": [
      "odict_keys(['0', '1', '2', '3', 'pool'])\n",
      "0\n",
      "torch.Size([4, 256, 84, 168])\n",
      "1\n",
      "torch.Size([4, 256, 42, 84])\n",
      "2\n",
      "torch.Size([4, 256, 42, 84])\n",
      "3\n",
      "torch.Size([4, 256, 21, 42])\n",
      "pool\n",
      "torch.Size([4, 256, 11, 21])\n"
     ]
    }
   ],
   "source": [
    "images, boxes = torch.rand(4, 3, 300, 600), torch.rand(4, 11, 4)\n",
    "boxes[:, :, 2:4] = boxes[:, :, 0:2] + boxes[:, :, 2:4]\n",
    "labels = torch.randint(1, 91, (4, 11))\n",
    "images = list(image for image in images)\n",
    "targets = []\n",
    "for i in range(len(images)):\n",
    "    d = {}\n",
    "    d['boxes'] = boxes[i]\n",
    "    d['labels'] = labels[i]\n",
    "    targets.append(d)\n",
    "model.to('cpu')\n",
    "# model.head.register_forward_hook(hook_fn)\n",
    "hook = model.backbone.fpn.register_forward_hook(hook_fn_fasterrcnn)\n",
    "output = model(images, targets)"
   ]
  },
  {
   "cell_type": "code",
   "execution_count": null,
   "metadata": {},
   "outputs": [],
   "source": [
    "\n",
    "\n",
    "# 用完后记得移除\n",
    "hook.remove()"
   ]
  }
 ],
 "metadata": {
  "kernelspec": {
   "display_name": "python38",
   "language": "python",
   "name": "python3"
  },
  "language_info": {
   "codemirror_mode": {
    "name": "ipython",
    "version": 3
   },
   "file_extension": ".py",
   "mimetype": "text/x-python",
   "name": "python",
   "nbconvert_exporter": "python",
   "pygments_lexer": "ipython3",
   "version": "3.8.19"
  }
 },
 "nbformat": 4,
 "nbformat_minor": 2
}
