{
 "cells": [
  {
   "cell_type": "code",
   "execution_count": null,
   "metadata": {},
   "outputs": [],
   "source": [
    "# from models.detection.ofa_resnet50_fasterrcnn import get_ofa_resnet50_fasterrcnn_model, load_pretrained_fasterrcnn, set_training_params\n",
    "# model = get_ofa_resnet50_fasterrcnn_model()\n",
    "# print(model)\n",
    "\n",
    "from models.detection.ofa_mbv3_w12_fcos import get_ofa_mbv3_w12_fcos_model, load_pretrained_fcos, set_training_params\n",
    "model = get_ofa_mbv3_w12_fcos_model()\n",
    "print(model)"
   ]
  },
  {
   "cell_type": "code",
   "execution_count": null,
   "metadata": {},
   "outputs": [],
   "source": [
    "# 只保存部分权重\n",
    "weight_to_save = ['backbone.dynamic_convs', 'backbone.fpn', 'rpn', 'roi_heads', 'head']"
   ]
  },
  {
   "cell_type": "code",
   "execution_count": null,
   "metadata": {},
   "outputs": [],
   "source": [
    "import torch\n",
    "\n",
    "# 保存指定的层\n",
    "def save_selected_layers(model, layers_to_save, save_path):\n",
    "    state_dict = {}\n",
    "    for name, param in model.named_parameters():\n",
    "        # 检查该参数是否属于我们要保存的层\n",
    "        if any(layer in name for layer in layers_to_save):\n",
    "            state_dict[name] = param\n",
    "    torch.save(state_dict, save_path)\n",
    "\n",
    "# 加载指定的层\n",
    "def load_selected_layers(model, checkpoint_path):\n",
    "    state_dict = torch.load(checkpoint_path)\n",
    "    model_state_dict = model.state_dict()\n",
    "    \n",
    "    # 只更新checkpoint中存在的层\n",
    "    for name, param in state_dict.items():\n",
    "        if name in model_state_dict:\n",
    "            model_state_dict[name] = param\n",
    "            print(f'Loaded {name}')\n",
    "    \n",
    "    model.load_state_dict(model_state_dict)\n"
   ]
  },
  {
   "cell_type": "code",
   "execution_count": null,
   "metadata": {},
   "outputs": [],
   "source": [
    "save_path = 'selected_layers.pth'\n",
    "save_selected_layers(model, weight_to_save, save_path)\n",
    "load_selected_layers(model, save_path)"
   ]
  },
  {
   "cell_type": "code",
   "execution_count": null,
   "metadata": {},
   "outputs": [],
   "source": [
    "from thop import profile\n",
    "import torch\n",
    "import torch.nn as nn\n",
    "\n",
    "subnet_config = model.backbone.body.sample_active_subnet()\n",
    "model.backbone.body.set_active_subnet(**subnet_config)\n",
    "# model.backbone.body.set_max_net()\n",
    "\n",
    "# from models.backbone.ofa_supernet import get_ofa_supernet_mbv3_w12\n",
    "# model = get_ofa_supernet_mbv3_w12()\n",
    "\n",
    "# subnet_config = model.sample_active_subnet()\n",
    "# model.set_active_subnet(**subnet_config)\n",
    "\n",
    "print(subnet_config)\n",
    "input = torch.randn(1, 3, 128, 128)\n",
    "flops, params = profile(model, inputs=(input, ))\n",
    "print(f\"Total FLOPs: {flops}\")"
   ]
  }
 ],
 "metadata": {
  "kernelspec": {
   "display_name": "python38",
   "language": "python",
   "name": "python3"
  },
  "language_info": {
   "codemirror_mode": {
    "name": "ipython",
    "version": 3
   },
   "file_extension": ".py",
   "mimetype": "text/x-python",
   "name": "python",
   "nbconvert_exporter": "python",
   "pygments_lexer": "ipython3",
   "version": "3.8.19"
  }
 },
 "nbformat": 4,
 "nbformat_minor": 2
}
