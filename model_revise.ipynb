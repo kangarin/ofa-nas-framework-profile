{
 "cells": [
  {
   "cell_type": "code",
   "execution_count": null,
   "metadata": {},
   "outputs": [],
   "source": [
    "import torch.nn as nn\n",
    "\n",
    "# PyTorch 中设置一个空操作\n",
    "class Identity(nn.Module):\n",
    "    def __init__(self):\n",
    "        super().__init__()\n",
    "        \n",
    "    def forward(self, x):\n",
    "        return x\n",
    "        "
   ]
  },
  {
   "cell_type": "code",
   "execution_count": null,
   "metadata": {},
   "outputs": [],
   "source": [
    "from models.backbone.ofa_supernet import get_ofa_supernet_resnet50\n",
    "backbone = get_ofa_supernet_resnet50()\n",
    "# print(backbone)\n",
    "backbone.final_expand_layer = Identity()\n",
    "backbone.global_avg_pool = Identity()\n",
    "backbone.feature_mix_layer = Identity()\n",
    "backbone.classifier = Identity()\n",
    "print(backbone)\n",
    "subnet_config = backbone.sample_active_subnet()\n",
    "print(subnet_config)"
   ]
  },
  {
   "cell_type": "code",
   "execution_count": null,
   "metadata": {},
   "outputs": [],
   "source": [
    "from models.backbone.ofa_supernet import get_ofa_supernet_mbv3_w10 \n",
    "import torch\n",
    "import torch.nn as nn\n",
    "backbone = get_ofa_supernet_mbv3_w10()\n",
    "# torch.save(backbone, 'mbv3_w12_with_classifier.pth')\n",
    "# print(backbone)\n",
    "backbone.final_expand_layer = Identity()\n",
    "backbone.global_avg_pool = Identity()\n",
    "backbone.feature_mix_layer = Identity()\n",
    "backbone.classifier = Identity()\n",
    "print(backbone)\n",
    "# torch.save(backbone, 'mbv3_w12_without_classifier.pth')\n",
    "subnet_config = backbone.sample_active_subnet()\n",
    "print(subnet_config)"
   ]
  }
 ],
 "metadata": {
  "kernelspec": {
   "display_name": "python38",
   "language": "python",
   "name": "python3"
  },
  "language_info": {
   "codemirror_mode": {
    "name": "ipython",
    "version": 3
   },
   "file_extension": ".py",
   "mimetype": "text/x-python",
   "name": "python",
   "nbconvert_exporter": "python",
   "pygments_lexer": "ipython3",
   "version": "3.8.19"
  }
 },
 "nbformat": 4,
 "nbformat_minor": 2
}
